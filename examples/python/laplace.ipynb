{
 "cells": [
  {
   "cell_type": "code",
   "execution_count": 1,
   "metadata": {},
   "outputs": [],
   "source": [
    "import numpy as np\n",
    "import exafmm.laplace as laplace"
   ]
  },
  {
   "cell_type": "code",
   "execution_count": 2,
   "metadata": {},
   "outputs": [
    {
     "data": {
      "text/plain": [
       "\"exafmm's submodule for Laplace kernel\""
      ]
     },
     "execution_count": 2,
     "metadata": {},
     "output_type": "execute_result"
    }
   ],
   "source": [
    "laplace.__doc__"
   ]
  },
  {
   "cell_type": "markdown",
   "metadata": {},
   "source": [
    "### 1. create sources and targets\n",
    "\n",
    "`init_sources()` takes in two arguments: coordinates of source bodies `src_coords` and charges (weights) of source bodies `src_charges`. Both should be `numpy.ndarray`. It returns a list of sources.\n",
    "\n",
    "`init_targets()` only requires an array of coordinates `trg_coords` from input and returns a list of targets."
   ]
  },
  {
   "cell_type": "code",
   "execution_count": 3,
   "metadata": {},
   "outputs": [],
   "source": [
    "nsrcs = 100000\n",
    "ntrgs = 200000\n",
    "\n",
    "# generate random positions for particles\n",
    "src_coords = np.random.random((nsrcs, 3))\n",
    "trg_coords = np.random.random((ntrgs, 3))\n",
    "\n",
    "# generate random charges for sources\n",
    "src_charges = np.random.random(nsrcs)"
   ]
  },
  {
   "cell_type": "code",
   "execution_count": 4,
   "metadata": {},
   "outputs": [],
   "source": [
    "# create a list of source instances\n",
    "sources = laplace.init_sources(src_coords, src_charges)\n",
    "\n",
    "# create a list of target instances\n",
    "targets = laplace.init_targets(trg_coords)"
   ]
  },
  {
   "cell_type": "markdown",
   "metadata": {},
   "source": [
    "`sources` and `targets` are two lists, the type of each element is `exafmm.laplace.Body`."
   ]
  },
  {
   "cell_type": "code",
   "execution_count": 5,
   "metadata": {},
   "outputs": [
    {
     "name": "stdout",
     "output_type": "stream",
     "text": [
      "<class 'list'>\n",
      "<class 'exafmm.laplace.Body'> <class 'exafmm.laplace.Body'>\n"
     ]
    }
   ],
   "source": [
    "print(type(sources))\n",
    "print(type(sources[0]), type(targets[0]))"
   ]
  },
  {
   "cell_type": "markdown",
   "metadata": {},
   "source": [
    "### 2. create a LaplaceFmm instance\n",
    "\n",
    "To run FMM, we need to create a LaplaceFmm instance. The constructor takes in 3 integers, the expansion order `p`, max number of bodies per leaf `ncrit`, and the tree depth `depth`, and a string `filename`, the file name of the pre-computation matrix. Its default value is `laplace_d_p[$p].dat`. This file will be created during `setup()` call.\n",
    "\n",
    "For now, the topology of the adaptive tree is only determined by `ncrit`. Changing `depth` does not affect the tree structure. We keep this interface `depth` for future use (a parameter that controls the domain decomposition when MPI is enabled)."
   ]
  },
  {
   "cell_type": "code",
   "execution_count": 6,
   "metadata": {},
   "outputs": [],
   "source": [
    "fmm = laplace.LaplaceFmm(p=10, ncrit=200, filename=\"test_file.dat\")"
   ]
  },
  {
   "cell_type": "markdown",
   "metadata": {},
   "source": [
    "### 3. setup fmm\n",
    "\n",
    "Given `sources`, `targets` and `fmm`, the function `setup()` handles three tasks:\n",
    "- build the tree\n",
    "- build interaction lists\n",
    "- pre-compute (or load) invariant matrices.\n",
    "\n",
    "It returns an octree, whose type is `exafmm.laplace.Tree`."
   ]
  },
  {
   "cell_type": "code",
   "execution_count": 7,
   "metadata": {},
   "outputs": [],
   "source": [
    "tree = laplace.setup(sources, targets, fmm)"
   ]
  },
  {
   "cell_type": "code",
   "execution_count": 8,
   "metadata": {},
   "outputs": [
    {
     "name": "stdout",
     "output_type": "stream",
     "text": [
      "<class 'exafmm.laplace.Tree'>\n"
     ]
    }
   ],
   "source": [
    "print(type(tree))"
   ]
  },
  {
   "cell_type": "markdown",
   "metadata": {},
   "source": [
    "The pre-computation file should be generated already."
   ]
  },
  {
   "cell_type": "code",
   "execution_count": 9,
   "metadata": {},
   "outputs": [
    {
     "name": "stdout",
     "output_type": "stream",
     "text": [
      "test_file.dat\r\n"
     ]
    }
   ],
   "source": [
    "ls *.dat"
   ]
  },
  {
   "cell_type": "markdown",
   "metadata": {},
   "source": [
    "### 4. evaluate\n",
    "\n",
    "`evaluate()` triggers the evaluation and returns the potential and gradient as an `numpy.ndarray` of shape `(ntrgs, 4)`.\n",
    "The $i$-th row of `trg_values` starts with the potential value of the $i$-th target, followed by its three gradient values."
   ]
  },
  {
   "cell_type": "code",
   "execution_count": 10,
   "metadata": {},
   "outputs": [],
   "source": [
    "trg_values = laplace.evaluate(tree, fmm)"
   ]
  },
  {
   "cell_type": "code",
   "execution_count": 11,
   "metadata": {},
   "outputs": [
    {
     "data": {
      "text/plain": [
       "array([ 7298.79741989, -9117.70340717, -2316.54604176, -1612.97018776])"
      ]
     },
     "execution_count": 11,
     "metadata": {},
     "output_type": "execute_result"
    }
   ],
   "source": [
    "trg_values[6]"
   ]
  },
  {
   "cell_type": "markdown",
   "metadata": {},
   "source": [
    "Set `verbose` to `True` to show timings."
   ]
  },
  {
   "cell_type": "code",
   "execution_count": 12,
   "metadata": {},
   "outputs": [],
   "source": [
    "laplace.clear_values(tree)\n",
    "trg_values = laplace.evaluate(tree, fmm, True)"
   ]
  },
  {
   "cell_type": "markdown",
   "metadata": {},
   "source": [
    "### 5. check accuracy (optional)\n",
    "\n",
    "`fmm.verify(tree.leafs)` returns L2-norm the relative error of potential and gradient in a list, compared with the values calculated from direct method. "
   ]
  },
  {
   "cell_type": "code",
   "execution_count": 13,
   "metadata": {},
   "outputs": [
    {
     "data": {
      "text/plain": [
       "[1.599971542163853e-09, 1.5686554179176571e-07]"
      ]
     },
     "execution_count": 13,
     "metadata": {},
     "output_type": "execute_result"
    }
   ],
   "source": [
    "fmm.verify(tree.leafs)"
   ]
  },
  {
   "cell_type": "markdown",
   "metadata": {},
   "source": [
    "### 6. update charges of sources and run FMM iteratively"
   ]
  },
  {
   "cell_type": "code",
   "execution_count": 14,
   "metadata": {},
   "outputs": [
    {
     "name": "stdout",
     "output_type": "stream",
     "text": [
      "---------- iteration 0 ----------\n",
      "Error:  [1.618751446467221e-09, 1.586287849001751e-07]\n",
      "---------- iteration 1 ----------\n",
      "Error:  [1.6754867707208437e-09, 1.609071569273411e-07]\n",
      "---------- iteration 2 ----------\n",
      "Error:  [1.6481379491975236e-09, 1.6048968403703656e-07]\n",
      "---------- iteration 3 ----------\n",
      "Error:  [1.627084147780005e-09, 1.5683217437032964e-07]\n",
      "---------- iteration 4 ----------\n",
      "Error:  [1.5953579903620995e-09, 1.5678691639592906e-07]\n"
     ]
    }
   ],
   "source": [
    "niters = 5\n",
    "\n",
    "for i in range(niters):\n",
    "    print('-'*10 + ' iteration {} '.format(i) + '-'*10)  # print divider between iterations\n",
    "    \n",
    "    src_charges = np.random.random(nsrcs)          # generate new random charges\n",
    "    laplace.update_charges(tree, src_charges)      # update charges\n",
    "    laplace.clear_values(tree)                     # clear values\n",
    "    trg_values = laplace.evaluate(tree, fmm)       # evaluate potentials\n",
    "\n",
    "    print(\"Error: \", fmm.verify(tree.leafs))       # check accuracy"
   ]
  },
  {
   "cell_type": "code",
   "execution_count": null,
   "metadata": {},
   "outputs": [],
   "source": []
  }
 ],
 "metadata": {
  "kernelspec": {
   "display_name": "Python 3",
   "language": "python",
   "name": "python3"
  },
  "language_info": {
   "codemirror_mode": {
    "name": "ipython",
    "version": 3
   },
   "file_extension": ".py",
   "mimetype": "text/x-python",
   "name": "python",
   "nbconvert_exporter": "python",
   "pygments_lexer": "ipython3",
   "version": "3.8.3"
  }
 },
 "nbformat": 4,
 "nbformat_minor": 2
}
